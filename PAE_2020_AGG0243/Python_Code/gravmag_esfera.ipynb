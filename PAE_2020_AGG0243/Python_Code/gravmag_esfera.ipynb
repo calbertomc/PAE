{
 "cells": [
  {
   "cell_type": "markdown",
   "metadata": {},
   "source": [
    "Cálculo do potencial e atração gravitacional para esferas sólidas.\n",
    "Blakely PG 51.\n",
    "\n",
    "O potêncial para um ponto P externo à esfera é dado por:\n",
    "U(P) = gama*((4/3)*pi*a³*rho)/(R)\n",
    "\n",
    "A atração gravitacional por sua vez é a derivada deste:\n",
    "g(P) = dU(P)/dR;\n",
    "g(P) = -gama*((4/3)*pi*a³*rho)/(R²);\n",
    "\n",
    "R = [(x-x0)²+(z-z0)²]^(1/2)"
   ]
  },
  {
   "cell_type": "code",
   "execution_count": 1,
   "metadata": {},
   "outputs": [],
   "source": [
    "# MODULOS PYTHON\n",
    "import numpy as np\n",
    "import math as mh\n",
    "import matplotlib.pyplot as plt\n",
    "from ipywidgets import interactive, fixed\n",
    "from matplotlib.patches import Circle"
   ]
  },
  {
   "cell_type": "code",
   "execution_count": 2,
   "metadata": {},
   "outputs": [],
   "source": [
    "# FUNCOES\n",
    "\n",
    "def pot_g(gamma,a,rho,x,x0,z,z0): #calcula o potencial\n",
    "    U = gamma*((4/3)*np.pi*(a**3)*rho)/((x-x0)**2+(z-z0)**2)**(1/2)\n",
    "    return U\n",
    "\n",
    "def pot_m(Cm,a,M,x,x0,z,z0): #calcula o potencial\n",
    "    V = Cm*((4/3)*np.pi*(a**3)*M)/((x-x0)**2+(z-z0)**2)**(1/2)\n",
    "    return V\n",
    "\n",
    "def grav(gamma,a,rho,x,x0,z,z0): #calcula a atracao gravitacional\n",
    "    g = -gamma*((4/3)*np.pi*(a**3)*rho)/((x-x0)**2+(z-z0)**2)\n",
    "    return g\n",
    "\n",
    "def mag(Cm,a,M,x,x0,z,z0): #calcula a atracao gravitacional\n",
    "    B = -Cm*((4/3)*np.pi*(a**3)*M)/((x-x0)**2+(z-z0)**2)\n",
    "    return B\n",
    "\n",
    "def plota_grav(gamma,a,rho,x,x0,z,z0): #plota os resultados do calculo para grav\n",
    "    U = pot_g(gamma,a,rho,x,x0,z,z0)\n",
    "    g = grav(gamma,a,rho,x,x0,z,z0)\n",
    "\n",
    "    fig = plt.figure()\n",
    "    ax1 = plt.subplot(211)\n",
    "    color = 'tab:red'\n",
    "    \n",
    "    ax1.set_ylabel('U (mgal.m)', color=color)\n",
    "    #ax1.set_ylim([0, 10200])\n",
    "    ax1.plot(x,U/1E-6,'o', color=color,markersize=3, markerfacecolor='none')\n",
    "    ax1.tick_params(axis='y', labelcolor=color)\n",
    "    ax1.set_title(\"Grav\")\n",
    "\n",
    "    ax2 = ax1.twinx()  # eixos gemeos\n",
    "\n",
    "    color = 'tab:blue'\n",
    "    ax2.set_ylabel('g (mgal)', color=color)\n",
    "    #ax2.set_ylim([-100, 0])\n",
    "    ax2.plot(x, g/1E-6,'o', color=color,markersize=3, markerfacecolor='none')\n",
    "    ax2.tick_params(axis='y', labelcolor=color)\n",
    "\n",
    "    fig.tight_layout()  # ajuste layout eixo y\n",
    "\n",
    "    ax3 = plt.subplot(212, sharex=ax1)\n",
    "    circle1 = plt.Circle( ( x0, z0 ), a, color='k' )\n",
    "    ax3.add_patch( circle1 )\n",
    "    ax3.axis('equal')\n",
    "    ax3.set_xlabel('posicao (m)')\n",
    "    ax3.hlines(0,np.min(x),np.max(x))\n",
    "\n",
    "    # remove bordas do frame\n",
    "    ax3.spines['right'].set_visible(False)\n",
    "    ax3.spines['top'].set_visible(False)\n",
    "\n",
    "    # define ticks\n",
    "    ax3.yaxis.set_ticks_position('left')\n",
    "    ax3.xaxis.set_ticks_position('bottom')\n",
    "    ax3.set_ylim([0,1000])\n",
    "    ax3.invert_yaxis()\n",
    "    ax3.set_ylabel('profundidade (m)')\n",
    "\n",
    "    plt.show()\n",
    "\n",
    "def plota_mag(Cm,a,M,x,x0,z,z0): #plota os resultados do calculo para mag\n",
    "    V = pot_m(Cm,a,M,x,x0,z,z0)\n",
    "    B = mag(Cm,a,M,x,x0,z,z0)\n",
    "\n",
    "    fig = plt.figure()\n",
    "    ax1 = plt.subplot(211)\n",
    "    color = 'tab:red'\n",
    "    \n",
    "    ax1.set_ylabel('V (A)', color=color)\n",
    "    #ax1.set_ylim([0, 10200])\n",
    "    ax1.plot(x,V,'o', color=color,markersize=3, markerfacecolor='none')\n",
    "    ax1.tick_params(axis='y', labelcolor=color)\n",
    "    ax1.set_title(\"Mag\")\n",
    "\n",
    "    ax2 = ax1.twinx()  # eixos gemeos\n",
    "\n",
    "    color = 'tab:blue'\n",
    "    ax2.set_ylabel('B (T)', color=color)\n",
    "    #ax2.set_ylim([-100, 0])\n",
    "    ax2.plot(x, B,'o', color=color,markersize=3, markerfacecolor='none')\n",
    "    ax2.tick_params(axis='y', labelcolor=color)\n",
    "\n",
    "    fig.tight_layout()  # ajuste layout eixo y\n",
    "\n",
    "    ax3 = plt.subplot(212, sharex=ax1)\n",
    "    circle1 = plt.Circle( ( x0, z0 ), a, color='k' )\n",
    "    ax3.add_patch( circle1 )\n",
    "    ax3.axis('equal')\n",
    "    ax3.set_xlabel('posicao (m)')\n",
    "    ax3.hlines(0,np.min(x),np.max(x))\n",
    "\n",
    "    # remove bordas do frame\n",
    "    ax3.spines['right'].set_visible(False)\n",
    "    ax3.spines['top'].set_visible(False)\n",
    "\n",
    "    # define ticks\n",
    "    ax3.yaxis.set_ticks_position('left')\n",
    "    ax3.xaxis.set_ticks_position('bottom')\n",
    "    ax3.set_ylim([0,1000])\n",
    "    ax3.invert_yaxis()\n",
    "    ax3.set_ylabel('profundidade (m)')\n",
    "\n",
    "    plt.show()"
   ]
  },
  {
   "cell_type": "code",
   "execution_count": 3,
   "metadata": {},
   "outputs": [],
   "source": [
    "# PARAMETROS DO MODELO\n",
    "\n",
    "# gamma -> constante gravitacional (m³/(km.s²))\n",
    "# Cm -> constante de proporcionalidade mag (10^-7)\n",
    "# M -> magnetizacao (A/m)\n",
    "# a -> raio da esfera\n",
    "# rho -> densidade de areia a granito (kg/m³)\n",
    "x = np.linspace(0,5000,50) #extesao perfil\n",
    "aux = np.zeros_like(x)\n",
    "zm = 0 # posicao vertical de medida, positivo para aerotransportado\n",
    "z = aux + zm\n",
    "# x0 -> posicao horizontal da esfera\n",
    "# z0 -> posicao vertical da esfera (USAR VALORES CONDIZENTES COM O RAIO DA ESFERA) "
   ]
  },
  {
   "cell_type": "code",
   "execution_count": 4,
   "metadata": {},
   "outputs": [
    {
     "output_type": "display_data",
     "data": {
      "text/plain": "interactive(children=(IntSlider(value=100, description='a', max=200, min=1), IntSlider(value=2350, description…",
      "application/vnd.jupyter.widget-view+json": {
       "version_major": 2,
       "version_minor": 0,
       "model_id": "4f0a3202f296439a8b9e063fc3a86f60"
      }
     },
     "metadata": {}
    }
   ],
   "source": [
    "# MODULO INTERATIVO\n",
    "# Cuidado com z < a !!!!!\n",
    "figura = interactive(plota_grav,gamma=fixed(6.67E-11),a=(1,200),rho=(1700,3000),x=fixed(x),z=fixed(z),x0=(0,5000),z0=(1,1000))\n",
    "figura"
   ]
  },
  {
   "cell_type": "code",
   "execution_count": 5,
   "metadata": {},
   "outputs": [
    {
     "output_type": "display_data",
     "data": {
      "text/plain": "interactive(children=(IntSlider(value=100, description='a', max=200, min=1), FloatSlider(value=2.75, descripti…",
      "application/vnd.jupyter.widget-view+json": {
       "version_major": 2,
       "version_minor": 0,
       "model_id": "385559f1f7eb4dd79f0830ec66371700"
      }
     },
     "metadata": {}
    }
   ],
   "source": [
    "figura = interactive(plota_mag,Cm=fixed(1E-7),a=(1,200),M=(0.5,5),x=fixed(x),z=fixed(z),x0=(0,5000),z0=(1,1000))\n",
    "figura"
   ]
  }
 ],
 "metadata": {
  "language_info": {
   "codemirror_mode": {
    "name": "ipython",
    "version": 3
   },
   "file_extension": ".py",
   "mimetype": "text/x-python",
   "name": "python",
   "nbconvert_exporter": "python",
   "pygments_lexer": "ipython3",
   "version": "3.8.3-final"
  },
  "orig_nbformat": 2,
  "kernelspec": {
   "name": "python38164biteb2ed01659634c54b11953c8586d225a",
   "display_name": "Python 3.8.1 64-bit"
  }
 },
 "nbformat": 4,
 "nbformat_minor": 2
}