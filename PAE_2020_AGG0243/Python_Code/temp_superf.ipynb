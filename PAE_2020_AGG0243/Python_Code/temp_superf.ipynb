{
 "cells": [
  {
   "cell_type": "code",
   "execution_count": 1,
   "metadata": {},
   "outputs": [],
   "source": [
    "# MODULOS DO PYTHON\n",
    "\n",
    "import numpy as np\n",
    "import matplotlib.pyplot as plt\n",
    "import matplotlib\n",
    "from ipywidgets import interactive, fixed\n",
    "\n",
    "matplotlib.rcParams['figure.figsize'] = (5, 4)"
   ]
  },
  {
   "cell_type": "code",
   "execution_count": 2,
   "metadata": {},
   "outputs": [],
   "source": [
    "#   EQUACAO DE DISTRIBUICAO DE TEMPERATURA EM FUNCAO DE TOPOGRAFIA PERIODICA\n",
    "def dist_T(x,y,To,rho,Ho,ho,hr,k,B,qm,lbd):\n",
    "    T = np.zeros((len(y),len(x))) # matriz 2D de valores de temperatura\n",
    "\n",
    "    p2 = (rho*Ho*hr**2)/k; p4 = B - qm/k - (rho*Ho*hr)/k\n",
    "\n",
    "    for i in range(len(y)):\n",
    "        p1 = (qm*y[i])/k; p3 = (1 - np.exp(-y[i]/hr)); p6 = np.exp((-2*np.pi*y[i])/lbd)\n",
    "\n",
    "        for j in range(len(x)):\n",
    "            p5 = ho*np.cos((2*np.pi*x[j])/lbd); \n",
    "            T[i,j] = To + p1 + p2*p3 + p4*p5*p6\n",
    "\n",
    "    return T\n",
    "\n",
    "# PLOTAGEM DE SOLUCOES\n",
    "def plot_sol(x,y,To,rho,Ho,ho,hr,k,B,qm,lbd):\n",
    "    T = dist_T(x,y,To,rho,Ho,ho,hr,k,B,qm,lbd)\n",
    "\n",
    "    plt.figure()\n",
    "    for i in range(len(y)):\n",
    "        plt.plot(x/1000,T[i,:],label = str(y[i]/1000)+' km')\n",
    "\n",
    "    plt.gca().invert_yaxis()\n",
    "    plt.legend(bbox_to_anchor=(1.05, 1),prop={'size': 6})\n",
    "    plt.ylabel(\"T (°C)\"); plt.xlabel(\"Posicao (km)\"); plt.title(\"Variacao da Temperatura\")\n",
    "\n",
    "    xx = np.tile(x,(len(y),1)); Y = np.reshape(y,(len(y),1)); yy = np.repeat(Y,len(x),axis=1)\n",
    "    plt.figure()\n",
    "    CS = plt.contourf(xx/1000,yy/1000,T,len(y),cmap='inferno')\n",
    "    plt.colorbar(label=\"T (°C)\")\n",
    "    plt.xlabel(\"Posicao (km)\"); plt.ylabel(\"Profundidade (km)\"); plt.title(\"Secao em Profundidade\")\n",
    "    plt.gca().invert_yaxis()\n",
    "    plt.show()\n",
    "\n",
    "    return"
   ]
  },
  {
   "cell_type": "code",
   "execution_count": 3,
   "metadata": {},
   "outputs": [],
   "source": [
    "# PARAMETROS DO MODELO\n",
    "\n",
    "#---------- INTERATIVOS -------------------------------------------------------------------------\n",
    "# To temperatura inicial (ºC)\n",
    "# lbd comprimento de onda da variacao espacial de temperatura (m)\n",
    "# ho amplitude topografica (m)\n",
    "\n",
    "#---------- FIXOS -------------------------------------------------------------------------------\n",
    "qm = 30 # fluxo de calor radiogenico a grande profundidade (mW/m²) \n",
    "k = 2.5E3 # coeficiente de codutividade termica (mW/mK) \n",
    "rho = 2700 # densidade da crosta (kg/m³)\n",
    "Ho = 5.9E-8# taxa de producao de calor ragiogenico por unidade de massa (mW/kg) \n",
    "hr = 10000 # taxa de decaimento da producao de calor radiogenico com a profundidade (m)\n",
    "B = 6.5E-3 # gradiente vertical de temperatura atmosferica (K/m) \n",
    "y = np.arange(0,10000,1000) # profundidade (m)\n",
    "x = np.arange(0,100000,1000)# posicoes (m)"
   ]
  },
  {
   "cell_type": "code",
   "execution_count": 4,
   "metadata": {},
   "outputs": [
    {
     "output_type": "display_data",
     "data": {
      "text/plain": "interactive(children=(IntSlider(value=20, description='To', max=40), IntSlider(value=600, description='ho', ma…",
      "application/vnd.jupyter.widget-view+json": {
       "version_major": 2,
       "version_minor": 0,
       "model_id": "4b2595bfce944588bb81ec1030daf280"
      }
     },
     "metadata": {}
    }
   ],
   "source": [
    "w=interactive(plot_sol,x=fixed(x),y=fixed(y),To=(0,40),rho=fixed(rho),Ho=fixed(Ho),ho=(0,1200),hr=fixed(hr),k=fixed(k),B=fixed(B),qm=fixed(qm),lbd=(1000,100000))\n",
    "w\n"
   ]
  },
  {
   "cell_type": "code",
   "execution_count": null,
   "metadata": {},
   "outputs": [],
   "source": []
  }
 ],
 "metadata": {
  "language_info": {
   "codemirror_mode": {
    "name": "ipython",
    "version": 3
   },
   "file_extension": ".py",
   "mimetype": "text/x-python",
   "name": "python",
   "nbconvert_exporter": "python",
   "pygments_lexer": "ipython3",
   "version": "3.8.3-final"
  },
  "orig_nbformat": 2,
  "kernelspec": {
   "name": "python38164biteb2ed01659634c54b11953c8586d225a",
   "display_name": "Python 3.8.1 64-bit"
  }
 },
 "nbformat": 4,
 "nbformat_minor": 2
}