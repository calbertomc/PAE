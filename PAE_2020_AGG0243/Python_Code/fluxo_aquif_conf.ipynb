{
 "cells": [
  {
   "cell_type": "markdown",
   "metadata": {},
   "source": [
    "FLUXO EM AQUÍFEROS CONFINADOS - PG(713)\n",
    "\n",
    "Seja o fluxo (Q) dado pelo produto da velocidade de Darcy (u) e a seção transversal do aquífero (A):\n",
    "\n",
    "Q = uA = -(k/mu)*Adp/dx\n",
    "\n",
    "Se considerarmos uma seçao transversal circular tem-se\n",
    "\n",
    "Q = kR²ρgb/µR′\n",
    "\n",
    "onde \"µR′\" é o comprimento do aquífero e \"b\" é a elevação da entrada em relação à saida."
   ]
  },
  {
   "cell_type": "code",
   "execution_count": 1,
   "metadata": {},
   "outputs": [],
   "source": [
    "def vazao(k,R,rho,g,A,b,mu):\n",
    "    Q = (k*R**2*rho*g*b)/(mu*R) # vazao em (m³/s)\n",
    "\n",
    "    return Q\n",
    "\n",
    "def tabela(k,rho,g,A,b,mu):\n",
    "    R = mh.sqrt(A/np.pi) # raio da secao transversal circular (m)\n",
    "    Q = vazao(k,R,rho,g,A,b,mu)\n",
    "    data = np.c_[k,Q]\n",
    "\n",
    "    cols = ['PERMEABILIDADE','VAZAO (m³/h)']\n",
    "    df = pd.DataFrame(data,columns=cols)\n",
    "        \n",
    "    display(df)\n",
    "    HTML(df.to_html('Tabela_Aquifero.html'))\n",
    "\n",
    "    return"
   ]
  },
  {
   "cell_type": "code",
   "execution_count": 2,
   "metadata": {},
   "outputs": [],
   "source": [
    "import numpy as np\n",
    "import seaborn as sns \n",
    "import math as mh\n",
    "import pandas as pd\n",
    "from IPython.display import display, HTML\n",
    "from ipywidgets import interactive, fixed"
   ]
  },
  {
   "cell_type": "code",
   "execution_count": 3,
   "metadata": {},
   "outputs": [],
   "source": [
    "# PARAMETROS DO MODELO\n",
    "\n",
    "#A area da secao transversal (m²)\n",
    "#b diferenca de altitude entre nascente e alimentacao (m)\n",
    "rho = 1000 # densidade do fluido (kg/m³)\n",
    "mu = 10E-3 # viscosidade do fluido (PA.s)\n",
    "g = 10 # aceleracao da gravidade (m/s²)\n",
    "k = np.array([1E-7,1E-9,1E-11,1E-13,1E-15,1E-17,1E-19,1E-21]) # permeabilidade de rochas de cascalho a granito"
   ]
  },
  {
   "cell_type": "code",
   "execution_count": 4,
   "metadata": {},
   "outputs": [
    {
     "output_type": "display_data",
     "data": {
      "text/plain": "interactive(children=(IntSlider(value=6, description='A', max=10, min=2), IntSlider(value=60, description='b',…",
      "application/vnd.jupyter.widget-view+json": {
       "version_major": 2,
       "version_minor": 0,
       "model_id": "cc4d07d1fec24d969fc9fe7d46da36a2"
      }
     },
     "metadata": {}
    }
   ],
   "source": [
    "# TABELA\n",
    "\n",
    "tab=interactive(tabela,k=fixed(k),rho=fixed(rho),g=fixed(g),A=(2,10),b=(20,100),mu=fixed(mu))\n",
    "tab\n",
    "\n"
   ]
  },
  {
   "cell_type": "code",
   "execution_count": null,
   "metadata": {},
   "outputs": [],
   "source": []
  }
 ],
 "metadata": {
  "language_info": {
   "codemirror_mode": {
    "name": "ipython",
    "version": 3
   },
   "file_extension": ".py",
   "mimetype": "text/x-python",
   "name": "python",
   "nbconvert_exporter": "python",
   "pygments_lexer": "ipython3",
   "version": "3.8.3-final"
  },
  "orig_nbformat": 2,
  "kernelspec": {
   "name": "python38164biteb2ed01659634c54b11953c8586d225a",
   "display_name": "Python 3.8.1 64-bit"
  }
 },
 "nbformat": 4,
 "nbformat_minor": 2
}