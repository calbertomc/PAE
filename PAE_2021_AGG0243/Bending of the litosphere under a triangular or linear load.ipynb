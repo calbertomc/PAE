{
 "cells": [
  {
   "cell_type": "markdown",
   "metadata": {},
   "source": [
    "## Script desenvolvido por Lais Rodrigues - Linguagem Python\n",
    "## Última atualização em agosto 2021"
   ]
  },
  {
   "cell_type": "markdown",
   "metadata": {},
   "source": [
    "O objetivo do programa é resolver, numericamente, um problema comum em geofisica: curvatura da litosfera abaixo de uma carga triangular ou linear. Neste script, basta o usuário informar qual tipo de carga e alguns parâmetros adimensionais para visualizar a resposta da litosfera para tal caso.\n",
    "\n",
    "# A matemática descrita no algoritmo.\n",
    "\n",
    "O desenvolvimento matemático depende de qual o tipo de carga o usuário indicou. Para uma carga linear a matemática é mais simples e exige somente um parâmetro de entrada (está descrito mais abaixo). Já para a carga do tipo triangular a equação de entrada é mais complexa por ser um caso mais próximo da realidade.\n",
    "\n",
    "# Carga linear\n",
    "\n",
    "A equação resolve a curvatura da litosfera abaixo de uma carga linear, a qual pode ser uma aproximação para a cadeia de ilhas vulcânicas sobre a placa litosférica.\n",
    "O modelo de deflexão da litosfera abaixo de uma carga linear, implica considerar o comportamento de uma placa sob uma carga de linha V0 aplicada na posição x=0 e para x diferente de zero a carga é nula. Dessa forma, é resolvido a equação:\n",
    "        \n",
    "           D*d⁴w/dx⁴ + (rho_m-rho_w)*gw = 0 (1)\n",
    "           \n",
    "           D = rigidez flexural\n",
    "           rho_m = densidade manto\n",
    "           rho_w = densidade agua\n",
    "           g = valor da gravidade\n",
    "           w = deflexão\n",
    "           \n",
    "Resulta em uma solução geral do tipo:\n",
    "\n",
    "          w = exp(x/alfa)*(c1*cos(x/alfa)+c2*sen(x/alfa)) + exp(-x/alfa)*(c3*cos(x/alfa)+c4*sen(x/alfa)) (2)\n",
    "          alfa = raíz_quarta[4*D / ((rho_m-rho_w)*g)] = parâmetro flexural.\n",
    "          \n",
    "           \n",
    "É notável que deve ser resolvido a E.D.O de 4ª ordem a partir de algumas condições de contorno demonstradas abaixo:\n",
    "\n",
    "          dw/dx(x = 0) = 0\n",
    "          d³w/dx³(x = 0) = Vo/2D (metade da placa suporta metade da carga em x=0)\n",
    "          V0 = carga linear aplicada\n",
    "\n",
    "Para uma solução numérica, a placa não deve ter comprimento infinito. Considere uma placa de tamanho horizontal 2L (-L < x < L). Como a carga está totalmente aplicada em x=0, pode ser assumido a simetria e então a solução de w está entre o intervalo 0 <= x <= L. Dessa maneira, é necessário mais 2 condições de contorno em x=L:\n",
    "\n",
    "          d²w/dx² = d³x/dx³ = 0 em x=L\n",
    "\n",
    "Para este script foram feitas as seguintes modificações:\n",
    "          \n",
    "          x_barra = x/alfa\n",
    "          w_barra = 8*w*D/Vo*alfa³\n",
    "          \n",
    "Sendo resolvido a seguinte E.D.O de 4ªordem:\n",
    "\n",
    "          d⁴w_barra/dx_barra⁴ + 4*w_barra = 0 (3)\n",
    "          \n",
    "Com as seguintes condições de contorno:\n",
    "\n",
    "          dw_barra/dx_barra(x_barra = 0) = 0\n",
    "          d³w_barra/dx_barra³(x_barra = 0) = 4\n",
    "          d²w_barra/dx_barra² = d³w_barra/dx_barra³ = 0 em x=L/alfa\n",
    "          \n",
    "Por fim, o script calcula numericamente a equação 3 implementando as condições de contorno citadas acima. Para isso foi utilizado o pacote do scipy.integrate que possui a função solve_bpv (resolução de sistema de E.D.O com valores de condições de contorno).\n",
    "O usuário pode investigar os efeitos na solução a partir da mudança do tamanho horizontal da placa L.\n",
    "\n",
    "*Toda matemática foi retirada do livro: Geodynamics (2014), Turcotte D.L, Schubert G."
   ]
  },
  {
   "cell_type": "code",
   "execution_count": 46,
   "metadata": {},
   "outputs": [],
   "source": [
    "# MODULOS PYTHON\n",
    "\n",
    "import numpy as np\n",
    "from scipy.integrate import solve_bvp\n",
    "import matplotlib.pyplot as plt\n",
    "\n"
   ]
  },
  {
   "cell_type": "code",
   "execution_count": 59,
   "metadata": {},
   "outputs": [],
   "source": [
    "# FUNCOES\n",
    "\n",
    "def fun(x,y):\n",
    "    \"Funcao para reduzir a EDO de quarta ordem para primeira ordem. Carga Linear\"\n",
    "    dy0=y[1]\n",
    "    dy1=y[2]\n",
    "    dy2=y[3]\n",
    "    dy3=-4*y[0]\n",
    "    return np.vstack((dy0,dy1,dy2,dy3))\n",
    "\n",
    "def fun_t(x_t,y_t):\n",
    "    \"Funcao para reduzir a EDO de quarta ordem para primeira ordem. Carga Triangular\"\n",
    "    l_t=1 #Alterar o valor da metade da base do triangulo\n",
    "    derivatey0=y_t[1]\n",
    "    derivatey1=y_t[2]\n",
    "    derivatey2=y_t[3]\n",
    "    derivatey3=-4*y_t[0]+(1-(x_t/l_t))*np.heaviside(1-(x_t/l_t),1)\n",
    "    return np.vstack ((derivatey0,derivatey1,derivatey2,derivatey3))\n",
    "\n",
    "# FUNCOES PARA IMPLEMENTAR AS CONDICOES DE CONTORNO\n",
    "\n",
    "def bc (f0,finf):\n",
    "    \"Implementa as condicoes de contorno.Carga Linear\"\n",
    "    return [f0[1],f0[3]-4,finf[1],finf[2]]\n",
    "\n",
    "def bc_t(f0_t,finf_t):\n",
    "    \"Implementa as condicoes de contorno.Carga Triangular\"\n",
    "    l=1 #Alterar o valor da metade da base do triangulo\n",
    "    return [f0_t[1],f0_t[3]-l/2,finf_t[1],finf_t[2]]"
   ]
  },
  {
   "cell_type": "code",
   "execution_count": 90,
   "metadata": {},
   "outputs": [],
   "source": [
    "# PARÂMETROS DO MODELO\n",
    "\n",
    "carga=\"triangular\" #\"linear\" ou \"triangular\"\n",
    "infinity=10 #L/alfa = X para aproximar de uma placa infitnira, ou seja, a metade do tamanho da placa é X_vezes o parâmetro flexural.\n",
    "lsq = 1 #Altere o valor da base do triangulo(alterar em fun_f e bc_f tambem). SOMENTE PARA CARGA TRIANGULAR\n",
    "\n",
    "#Configurando \"chutes\" iniciais\n",
    "x_initial=np.linspace(0,infinity,101)\n",
    "y_initial= np.zeros((4, x_initial.size))\n",
    "\n",
    "#Executando o solver\n",
    "if (carga==\"linear\"):\n",
    "    solution=solve_bvp(fun,bc,x_initial,y_initial)\n",
    "    titulo=\"Plate Bending Line Load\"\n",
    "    y_label=\"w_barra\"\n",
    "if (carga==\"triangular\"):\n",
    "    solution=solve_bvp(fun_t,bc_t,x_initial,y_initial)\n",
    "    titulo=\"Plate Bending Triangular Load\"\n",
    "    y_label=\"w_chapeu\""
   ]
  },
  {
   "cell_type": "code",
   "execution_count": 91,
   "metadata": {},
   "outputs": [
    {
     "data": {
      "image/png": "[encoded data removed]",
      "text/plain": [
       "<Figure size 432x288 with 1 Axes>"
      ]
     },
     "metadata": {
      "needs_background": "light"
     },
     "output_type": "display_data"
    }
   ],
   "source": [
    "# PLOTAGEM DOS RESULTADOS\n",
    "\n",
    "x_barra=x_initial\n",
    "w=solution.sol(x_barra)[0]\n",
    "plt.plot(x_barra, w)\n",
    "plt.xlabel(\"x_barra\")\n",
    "plt.ylabel(y_label)\n",
    "plt.ylim(max(w), min(w)-0.02)\n",
    "plt.title(titulo)\n",
    "plt.show()\n"
   ]
  },
  {
   "cell_type": "code",
   "execution_count": null,
   "metadata": {},
   "outputs": [],
   "source": []
  }
 ],
 "metadata": {
  "kernelspec": {
   "display_name": "Python 2",
   "language": "python",
   "name": "python2"
  },
  "language_info": {
   "codemirror_mode": {
    "name": "ipython",
    "version": 2
   },
   "file_extension": ".py",
   "mimetype": "text/x-python",
   "name": "python",
   "nbconvert_exporter": "python",
   "pygments_lexer": "ipython2",
   "version": "2.7.13"
  }
 },
 "nbformat": 4,
 "nbformat_minor": 2
}
